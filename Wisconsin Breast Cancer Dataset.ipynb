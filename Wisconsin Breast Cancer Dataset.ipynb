{
 "cells": [
  {
   "cell_type": "markdown",
   "metadata": {},
   "source": [
    "# Using the Wisconsin Breast Cancer Dataset\n",
    "# we will perform the following:\n",
    "    1. Caclulate the mean, median and standard deviation of the \"perimeter\" feature of the input data\n",
    "    2. Figure out if the first feature is normally distributed?\n",
    "       If it isn't then what could be a more appropriate distribution?\n",
    "    3. Train and compare the results between two classifiers:\n",
    "       SVM & Logistic Regression. \n",
    "    \n",
    " "
   ]
  },
  {
   "cell_type": "markdown",
   "metadata": {},
   "source": [
    "Please note: The data file is attached to this repository and should be kept in the same directory from which the notebook is being executed. "
   ]
  },
  {
   "cell_type": "code",
   "execution_count": 39,
   "metadata": {},
   "outputs": [],
   "source": [
    "#Import libraries\n",
    "%matplotlib inline\n",
    "import tensorflow as tf\n",
    "import matplotlib.pyplot as plt\n",
    "import pandas as pd\n",
    "import sklearn as skl\n",
    "import numpy as np"
   ]
  },
  {
   "cell_type": "code",
   "execution_count": 40,
   "metadata": {},
   "outputs": [],
   "source": [
    "# Setup training data\n",
    "# and define the various coloumn headers \n",
    "\n",
    "training_data_filename = \"data.csv\"\n",
    "\n",
    "id_header = \"id\"\n",
    "diagnosis_header = \"diagnosis\"\n",
    "radiusMean_header = \"radius_mean\"\n",
    "textureMean_header = \"texture_mean\"\n",
    "perimeterMean_header = \"perimeter_mean\"\n",
    "areaMean_header = \"area_mean\"\n",
    "smoothnessMean_header = \"smoothness_mean\"\n",
    "compactnessMean_header = \"compactness_mean\"\n",
    "concavityMean_header = \"concavity_mean\"\n",
    "concavePointsMean_header = \"concave points_mean\"\n",
    "symmetryMean_header = \"symmetry_mean\"\n",
    "fractalDimensionMean = \"fractal_dimension_mean\"\n",
    "radiusSe_header = \"radius_se\"\n",
    "textureSe_header = \"texture_se\"\n",
    "perimeterSe_header = \"perimeter_se\"\n",
    "areaSe_header = \"area_se\"\n",
    "smoothnessSe_header = \"smoothness_se\"\n",
    "compactnessSe_header = \"compactness_se\"\n",
    "concavitySe_header = \"concavity_se\"\n",
    "concavePointsSe_header = \"concave points_se\"\n",
    "symmetrySe_header = \"symmetry_se\"\n",
    "fractalDimensionSe_header = \"fractal_dimension_se\"\n",
    "radiusWorst_header = \"radius_worst\"\n",
    "textureWorst_header = \"texture_worst\"\n",
    "perimeterWorst_header = \"perimeter_worst\"\n",
    "areaWorst_header = \"area_worst\"\n",
    "smoothnessWorst_header = \"smoothness_worst\"\n",
    "compactnessWorst_header = \"compactness_worst\"\n",
    "concavityWorst_header = \"concavity_worst\"\n",
    "concavePointsWorst_header = \"concave points_worst\"\n",
    "symmetryWorst_header = \"symmetry_worst\"\n",
    "fractalDimensionWorst_header = \"fractal_dimension_worst\""
   ]
  },
  {
   "cell_type": "code",
   "execution_count": 41,
   "metadata": {},
   "outputs": [],
   "source": [
    "# Read training data from the \"data.csv\"\n",
    "input_data_coloumns = [ id_header, diagnosis_header, radiusMean_header, textureMean_header, perimeterMean_header,\n",
    "                       areaMean_header, smoothnessMean_header, compactnessMean_header, concavityMean_header,\n",
    "                       concavePointsMean_header, symmetryMean_header, fractalDimensionMean, radiusSe_header, \n",
    "                       textureSe_header, perimeterSe_header, areaSe_header, smoothnessSe_header, compactnessSe_header,\n",
    "                       concavitySe_header, concavePointsSe_header, symmetrySe_header, fractalDimensionSe_header, \n",
    "                       radiusWorst_header, textureWorst_header, perimeterWorst_header, areaWorst_header, smoothnessWorst_header,\n",
    "                       compactnessWorst_header, concavityWorst_header, concavePointsWorst_header, symmetryWorst_header,\n",
    "                       fractalDimensionWorst_header]\n",
    "\n",
    "# Reading the data using Pandas. We will skip the first row because it contains headers. \n",
    "training_data = pd.read_csv(training_data_filename, names=input_data_coloumns, delimiter=',', skiprows=1)"
   ]
  },
  {
   "cell_type": "markdown",
   "metadata": {},
   "source": [
    "## Caculate the mean, median and standard deviation of the \"perimeter\" feature of the input data"
   ]
  },
  {
   "cell_type": "code",
   "execution_count": 42,
   "metadata": {},
   "outputs": [
    {
     "name": "stdout",
     "output_type": "stream",
     "text": [
      "The mean value of the perimenter feature is:  91.96903339191566\n",
      "The median value of the perimenter feature is:  86.24\n",
      "The standard deviation of the perimenter feature is:  24.2989810387549\n",
      "\n",
      "Calculating mean, median & standard deviation using the describe() function:\n",
      "count    569.000000\n",
      "mean      91.969033\n",
      "std       24.298981\n",
      "min       43.790000\n",
      "25%       75.170000\n",
      "50%       86.240000\n",
      "75%      104.100000\n",
      "max      188.500000\n",
      "Name: perimeter_mean, dtype: float64\n",
      "\n",
      "The 50% value is the median value for the \"perimeter_mean\" feature\n"
     ]
    }
   ],
   "source": [
    "# Using pandas we will calculate the mean, median and standard deviation of the \"periemter\" feature\n",
    "# of the input data.\n",
    "perimeter_feature_mean = training_data['perimeter_mean'].mean()\n",
    "perimeter_feature_median = training_data['perimeter_mean'].median()\n",
    "perimeter_feature_standardDeviation = training_data['perimeter_mean'].std()\n",
    "print('The mean value of the perimenter feature is: ', perimeter_feature_mean)\n",
    "print('The median value of the perimenter feature is: ', perimeter_feature_median)\n",
    "print('The standard deviation of the perimenter feature is: ', perimeter_feature_standardDeviation)\n",
    "\n",
    "# The other way to calculatae mean, median and standard deviation along with other attributes is \n",
    "# by using the describe function. Here the 50% value describes the median.\n",
    "print(\"\\nCalculating mean, median & standard deviation using the describe() function:\")\n",
    "print(training_data['perimeter_mean'].describe())\n",
    "\n",
    "print(\"\\nThe 50% value is the median value for the \\\"perimeter_mean\\\" feature\")"
   ]
  },
  {
   "cell_type": "markdown",
   "metadata": {},
   "source": [
    "## Figure out if the \"radius\" feautre is normally distributed or not"
   ]
  },
  {
   "cell_type": "markdown",
   "metadata": {},
   "source": [
    "### Check which feature is normally distributed"
   ]
  },
  {
   "cell_type": "code",
   "execution_count": 43,
   "metadata": {},
   "outputs": [
    {
     "name": "stdout",
     "output_type": "stream",
     "text": [
      "[False]\n"
     ]
    }
   ],
   "source": [
    "# To find out if the \"radius\" feature is normally distributed of not\n",
    "# we will first calculate the mean and standard deviation of the feature.\n",
    "\n",
    "radius_feature_mean = training_data['radius_mean'].mean()\n",
    "radius_feature_standardDeviation = training_data['radius_mean'].std()\n",
    "\n",
    "# Now we will check if the data is normally ditributed or not using numpy.\n",
    "radius_feature_distribution = abs(np.random.normal(radius_feature_mean, radius_feature_standardDeviation, 1)) < 0.5\n",
    "print(radius_feature_distribution)"
   ]
  },
  {
   "cell_type": "code",
   "execution_count": 44,
   "metadata": {},
   "outputs": [
    {
     "data": {
      "image/png": "[encoded data removed]",
      "text/plain": [
       "<matplotlib.figure.Figure at 0x1fcc7e49b38>"
      ]
     },
     "metadata": {},
     "output_type": "display_data"
    }
   ],
   "source": [
    "f, (ax1, ax2) = plt.subplots(2, 1, sharex=True, figsize=(18,6))\n",
    "\n",
    "bins = 50\n",
    "\n",
    "ax1.hist(training_data.radius_mean[training_data.diagnosis == \"M\"], bins)\n",
    "ax1.set_title('Malignant')\n",
    "\n",
    "ax2.hist(training_data.radius_mean[training_data.diagnosis == \"B\"], bins)\n",
    "ax2.set_title('Benign')\n",
    "\n",
    "plt.xlabel('Radius Mean')\n",
    "plt.ylabel('Number of Diagnoses')\n",
    "plt.show()"
   ]
  },
  {
   "cell_type": "markdown",
   "metadata": {},
   "source": [
    "Based on the above results we can confirm that the radius feature for the Malignant Tumors isn't normally distributed but are more uniformly distributed.  \n",
    "\n",
    "The Benign tumors are more normally distributed. "
   ]
  },
  {
   "cell_type": "markdown",
   "metadata": {},
   "source": [
    "# Train and compare the results between two classifiers:\n",
    "  ## SVM & Logistic Regression"
   ]
  },
  {
   "cell_type": "markdown",
   "metadata": {},
   "source": [
    "### Preparing the dataset \n",
    "* The data will be split into 80-20.\n",
    "   * 80% for training & 20% for testing"
   ]
  }
 ],
 "metadata": {
  "kernelspec": {
   "display_name": "Python 3",
   "language": "python",
   "name": "python3"
  },
  "language_info": {
   "codemirror_mode": {
    "name": "ipython",
    "version": 3
   },
   "file_extension": ".py",
   "mimetype": "text/x-python",
   "name": "python",
   "nbconvert_exporter": "python",
   "pygments_lexer": "ipython3",
   "version": "3.6.4"
  }
 },
 "nbformat": 4,
 "nbformat_minor": 2
}
